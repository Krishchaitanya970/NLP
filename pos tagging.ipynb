{
 "cells": [
  {
   "cell_type": "code",
   "execution_count": 9,
   "id": "35a91e7a-6d60-4871-b340-d622d9c9adc6",
   "metadata": {},
   "outputs": [],
   "source": [
    "import spacy\n"
   ]
  },
  {
   "cell_type": "code",
   "execution_count": 10,
   "id": "ce32a2be-2574-4e12-858e-a35cfa1679f6",
   "metadata": {},
   "outputs": [],
   "source": [
    "nlp = spacy.load(\"en_core_web_sm\")"
   ]
  },
  {
   "cell_type": "code",
   "execution_count": 11,
   "id": "86576d0d-efeb-4379-8cc0-151c451f9bcd",
   "metadata": {},
   "outputs": [
    {
     "name": "stdout",
     "output_type": "stream",
     "text": [
      "Captain  |  PROPN  | proper noun\n",
      "america  |  PROPN  | proper noun\n",
      "ate  |  VERB  | verb\n",
      "100  |  NUM  | numeral\n",
      "$  |  NUM  | numeral\n",
      "of  |  ADP  | adposition\n",
      "samosa  |  PROPN  | proper noun\n",
      ".  |  PUNCT  | punctuation\n",
      "Then  |  ADV  | adverb\n",
      "he  |  PRON  | pronoun\n",
      "said  |  VERB  | verb\n",
      "I  |  PRON  | pronoun\n",
      "can  |  AUX  | auxiliary\n",
      "do  |  VERB  | verb\n",
      "this  |  PRON  | pronoun\n",
      "all  |  DET  | determiner\n",
      "day  |  NOUN  | noun\n",
      ".  |  PUNCT  | punctuation\n"
     ]
    }
   ],
   "source": [
    "doc = nlp(\"Captain america ate 100$ of samosa. Then he said I can do this all day.\")\n",
    "\n",
    "for token in doc:\n",
    "    print(token, \" | \",token.pos_, \" |\", spacy.explain(token.pos_))"
   ]
  },
  {
   "cell_type": "code",
   "execution_count": 12,
   "id": "78be1f69-eaa7-4513-8796-b8e9e8dd0416",
   "metadata": {},
   "outputs": [
    {
     "name": "stdout",
     "output_type": "stream",
     "text": [
      "Captain  |  PROPN  | proper noun  |  noun, proper singular\n",
      "america  |  PROPN  | proper noun  |  noun, proper singular\n",
      "ate  |  VERB  | verb  |  verb, past tense\n",
      "100  |  NUM  | numeral  |  cardinal number\n",
      "$  |  NUM  | numeral  |  cardinal number\n",
      "of  |  ADP  | adposition  |  conjunction, subordinating or preposition\n",
      "samosa  |  PROPN  | proper noun  |  noun, proper singular\n",
      ".  |  PUNCT  | punctuation  |  punctuation mark, sentence closer\n",
      "Then  |  ADV  | adverb  |  adverb\n",
      "he  |  PRON  | pronoun  |  pronoun, personal\n",
      "said  |  VERB  | verb  |  verb, past tense\n",
      "I  |  PRON  | pronoun  |  pronoun, personal\n",
      "can  |  AUX  | auxiliary  |  verb, modal auxiliary\n",
      "do  |  VERB  | verb  |  verb, base form\n",
      "this  |  PRON  | pronoun  |  determiner\n",
      "all  |  DET  | determiner  |  determiner\n",
      "day  |  NOUN  | noun  |  noun, singular or mass\n",
      ".  |  PUNCT  | punctuation  |  punctuation mark, sentence closer\n"
     ]
    }
   ],
   "source": [
    "doc = nlp(\"Captain america ate 100$ of samosa. Then he said I can do this all day.\")\n",
    "\n",
    "for token in doc:\n",
    "    print(token, \" | \",token.pos_, \" |\", spacy.explain(token.pos_), \" | \",  spacy.explain(token.tag_))"
   ]
  },
  {
   "cell_type": "code",
   "execution_count": 19,
   "id": "4dcb087c-7ec9-458a-a108-36539623e929",
   "metadata": {},
   "outputs": [
    {
     "name": "stdout",
     "output_type": "stream",
     "text": [
      "quits  |  VBZ verb, 3rd person singular present\n"
     ]
    }
   ],
   "source": [
    "doc = nlp(\"He quits the job\")\n",
    "\n",
    "doc[1]\n",
    "print(doc[1].text, \" | \", doc[1].tag_, spacy.explain(doc[1].tag_))"
   ]
  },
  {
   "cell_type": "code",
   "execution_count": 21,
   "id": "22d6737d-ab97-4c09-b943-c795bf978b60",
   "metadata": {},
   "outputs": [
    {
     "name": "stdout",
     "output_type": "stream",
     "text": [
      "quit  |  VBD verb, past tense\n"
     ]
    }
   ],
   "source": [
    "doc = nlp(\"He quit the job\")\n",
    "\n",
    "doc[1]\n",
    "print(doc[1].text, \" | \", doc[1].tag_, spacy.explain(doc[1].tag_))"
   ]
  },
  {
   "cell_type": "code",
   "execution_count": 39,
   "id": "78f7f875-affc-4fa8-b593-d77e37c49b4f",
   "metadata": {},
   "outputs": [],
   "source": [
    "earnings_text = \"\"\"Microsoft Corp. today announced the following results for the quarter ended March 31, 2025, as compared to the corresponding period of last fiscal year:\n",
    "\n",
    "Revenue was $70.1 billion and increased 13% (up 15% in constant currency)\n",
    "\n",
    "Operating income was $32.0 billion and increased 16% (up 19% in constant currency)\n",
    "\n",
    "Net income was $25.8 billion and increased 18% (up 19% in constant currency) etc...\n",
    "\n",
    "Diluted earnings per share was $3.46 and increased 18% (up 19% in constant currency)\"\"\"\n",
    "\n",
    "\n",
    "    "
   ]
  },
  {
   "cell_type": "code",
   "execution_count": 41,
   "id": "8398d738-6a09-485e-9d47-10fae8c0b470",
   "metadata": {},
   "outputs": [
    {
     "name": "stdout",
     "output_type": "stream",
     "text": [
      "Microsoft  |  PROPN  | proper noun  |  noun, proper singular\n",
      "Corp.  |  PROPN  | proper noun  |  noun, proper singular\n",
      "today  |  NOUN  | noun  |  noun, singular or mass\n",
      "announced  |  VERB  | verb  |  verb, past tense\n",
      "the  |  DET  | determiner  |  determiner\n",
      "following  |  VERB  | verb  |  verb, gerund or present participle\n",
      "results  |  NOUN  | noun  |  noun, plural\n",
      "for  |  ADP  | adposition  |  conjunction, subordinating or preposition\n",
      "the  |  DET  | determiner  |  determiner\n",
      "quarter  |  NOUN  | noun  |  noun, singular or mass\n",
      "ended  |  VERB  | verb  |  verb, past participle\n",
      "March  |  PROPN  | proper noun  |  noun, proper singular\n",
      "31  |  NUM  | numeral  |  cardinal number\n",
      ",  |  PUNCT  | punctuation  |  punctuation mark, comma\n",
      "2025  |  NUM  | numeral  |  cardinal number\n",
      ",  |  PUNCT  | punctuation  |  punctuation mark, comma\n",
      "as  |  SCONJ  | subordinating conjunction  |  conjunction, subordinating or preposition\n",
      "compared  |  VERB  | verb  |  verb, past participle\n",
      "to  |  ADP  | adposition  |  conjunction, subordinating or preposition\n",
      "the  |  DET  | determiner  |  determiner\n",
      "corresponding  |  ADJ  | adjective  |  adjective (English), other noun-modifier (Chinese)\n",
      "period  |  NOUN  | noun  |  noun, singular or mass\n",
      "of  |  ADP  | adposition  |  conjunction, subordinating or preposition\n",
      "last  |  ADJ  | adjective  |  adjective (English), other noun-modifier (Chinese)\n",
      "fiscal  |  ADJ  | adjective  |  adjective (English), other noun-modifier (Chinese)\n",
      "year  |  NOUN  | noun  |  noun, singular or mass\n",
      ":  |  PUNCT  | punctuation  |  punctuation mark, colon or ellipsis\n",
      "\n",
      "\n",
      "  |  SPACE  | space  |  whitespace\n",
      "Revenue  |  NOUN  | noun  |  noun, singular or mass\n",
      "was  |  AUX  | auxiliary  |  verb, past tense\n",
      "$  |  SYM  | symbol  |  symbol, currency\n",
      "70.1  |  NUM  | numeral  |  cardinal number\n",
      "billion  |  NUM  | numeral  |  cardinal number\n",
      "and  |  CCONJ  | coordinating conjunction  |  conjunction, coordinating\n",
      "increased  |  VERB  | verb  |  verb, past tense\n",
      "13  |  NUM  | numeral  |  cardinal number\n",
      "%  |  NOUN  | noun  |  noun, singular or mass\n",
      "(  |  PUNCT  | punctuation  |  left round bracket\n",
      "up  |  ADV  | adverb  |  adverb\n",
      "15  |  NUM  | numeral  |  cardinal number\n",
      "%  |  NOUN  | noun  |  noun, singular or mass\n",
      "in  |  ADP  | adposition  |  conjunction, subordinating or preposition\n",
      "constant  |  ADJ  | adjective  |  adjective (English), other noun-modifier (Chinese)\n",
      "currency  |  NOUN  | noun  |  noun, singular or mass\n",
      ")  |  PUNCT  | punctuation  |  right round bracket\n",
      "\n",
      "\n",
      "  |  SPACE  | space  |  whitespace\n",
      "Operating  |  NOUN  | noun  |  noun, singular or mass\n",
      "income  |  NOUN  | noun  |  noun, singular or mass\n",
      "was  |  AUX  | auxiliary  |  verb, past tense\n",
      "$  |  SYM  | symbol  |  symbol, currency\n",
      "32.0  |  NUM  | numeral  |  cardinal number\n",
      "billion  |  NUM  | numeral  |  cardinal number\n",
      "and  |  CCONJ  | coordinating conjunction  |  conjunction, coordinating\n",
      "increased  |  VERB  | verb  |  verb, past tense\n",
      "16  |  NUM  | numeral  |  cardinal number\n",
      "%  |  NOUN  | noun  |  noun, singular or mass\n",
      "(  |  PUNCT  | punctuation  |  left round bracket\n",
      "up  |  ADV  | adverb  |  adverb\n",
      "19  |  NUM  | numeral  |  cardinal number\n",
      "%  |  NOUN  | noun  |  noun, singular or mass\n",
      "in  |  ADP  | adposition  |  conjunction, subordinating or preposition\n",
      "constant  |  ADJ  | adjective  |  adjective (English), other noun-modifier (Chinese)\n",
      "currency  |  NOUN  | noun  |  noun, singular or mass\n",
      ")  |  PUNCT  | punctuation  |  right round bracket\n",
      "\n",
      "\n",
      "  |  SPACE  | space  |  whitespace\n",
      "Net  |  ADJ  | adjective  |  adjective (English), other noun-modifier (Chinese)\n",
      "income  |  NOUN  | noun  |  noun, singular or mass\n",
      "was  |  AUX  | auxiliary  |  verb, past tense\n",
      "$  |  SYM  | symbol  |  symbol, currency\n",
      "25.8  |  NUM  | numeral  |  cardinal number\n",
      "billion  |  NUM  | numeral  |  cardinal number\n",
      "and  |  CCONJ  | coordinating conjunction  |  conjunction, coordinating\n",
      "increased  |  VERB  | verb  |  verb, past tense\n",
      "18  |  NUM  | numeral  |  cardinal number\n",
      "%  |  NOUN  | noun  |  noun, singular or mass\n",
      "(  |  PUNCT  | punctuation  |  left round bracket\n",
      "up  |  ADV  | adverb  |  adverb\n",
      "19  |  NUM  | numeral  |  cardinal number\n",
      "%  |  NOUN  | noun  |  noun, singular or mass\n",
      "in  |  ADP  | adposition  |  conjunction, subordinating or preposition\n",
      "constant  |  ADJ  | adjective  |  adjective (English), other noun-modifier (Chinese)\n",
      "currency  |  NOUN  | noun  |  noun, singular or mass\n",
      ")  |  PUNCT  | punctuation  |  right round bracket\n",
      "etc  |  X  | other  |  foreign word\n",
      "...  |  PUNCT  | punctuation  |  punctuation mark, colon or ellipsis\n",
      "\n",
      "\n",
      "  |  SPACE  | space  |  whitespace\n",
      "Diluted  |  ADJ  | adjective  |  adjective (English), other noun-modifier (Chinese)\n",
      "earnings  |  NOUN  | noun  |  noun, plural\n",
      "per  |  ADP  | adposition  |  conjunction, subordinating or preposition\n",
      "share  |  NOUN  | noun  |  noun, singular or mass\n",
      "was  |  AUX  | auxiliary  |  verb, past tense\n",
      "$  |  SYM  | symbol  |  symbol, currency\n",
      "3.46  |  NUM  | numeral  |  cardinal number\n",
      "and  |  CCONJ  | coordinating conjunction  |  conjunction, coordinating\n",
      "increased  |  VERB  | verb  |  verb, past tense\n",
      "18  |  NUM  | numeral  |  cardinal number\n",
      "%  |  NOUN  | noun  |  noun, singular or mass\n",
      "(  |  PUNCT  | punctuation  |  left round bracket\n",
      "up  |  ADV  | adverb  |  adverb\n",
      "19  |  NUM  | numeral  |  cardinal number\n",
      "%  |  NOUN  | noun  |  noun, singular or mass\n",
      "in  |  ADP  | adposition  |  conjunction, subordinating or preposition\n",
      "constant  |  ADJ  | adjective  |  adjective (English), other noun-modifier (Chinese)\n",
      "currency  |  NOUN  | noun  |  noun, singular or mass\n",
      ")  |  PUNCT  | punctuation  |  right round bracket\n"
     ]
    }
   ],
   "source": [
    "doc = nlp(earnings_text)\n",
    "\n",
    "for token in doc:\n",
    "    print (token, \" | \",token.pos_, \" |\", spacy.explain(token.pos_), \" | \",  spacy.explain(token.tag_))"
   ]
  },
  {
   "cell_type": "code",
   "execution_count": 49,
   "id": "b42b80cc-eabb-404c-8a19-a05ab326194b",
   "metadata": {},
   "outputs": [
    {
     "name": "stdout",
     "output_type": "stream",
     "text": [
      ",  |  PUNCT  | punctuation  |  punctuation mark, comma\n",
      ",  |  PUNCT  | punctuation  |  punctuation mark, comma\n",
      ":  |  PUNCT  | punctuation  |  punctuation mark, colon or ellipsis\n",
      "\n",
      "\n",
      "  |  SPACE  | space  |  whitespace\n",
      "(  |  PUNCT  | punctuation  |  left round bracket\n",
      ")  |  PUNCT  | punctuation  |  right round bracket\n",
      "\n",
      "\n",
      "  |  SPACE  | space  |  whitespace\n",
      "(  |  PUNCT  | punctuation  |  left round bracket\n",
      ")  |  PUNCT  | punctuation  |  right round bracket\n",
      "\n",
      "\n",
      "  |  SPACE  | space  |  whitespace\n",
      "(  |  PUNCT  | punctuation  |  left round bracket\n",
      ")  |  PUNCT  | punctuation  |  right round bracket\n",
      "etc  |  X  | other  |  foreign word\n",
      "...  |  PUNCT  | punctuation  |  punctuation mark, colon or ellipsis\n",
      "\n",
      "\n",
      "  |  SPACE  | space  |  whitespace\n",
      "(  |  PUNCT  | punctuation  |  left round bracket\n",
      ")  |  PUNCT  | punctuation  |  right round bracket\n"
     ]
    }
   ],
   "source": [
    "doc = nlp(earnings_text)\n",
    "\n",
    "for token in doc:\n",
    "    if token.pos_ in [\"SPACE\", \"X\",\"PUNCT\"]:\n",
    "     print (token, \" | \",token.pos_, \" |\", spacy.explain(token.pos_), \" | \",  spacy.explain(token.tag_))"
   ]
  },
  {
   "cell_type": "code",
   "execution_count": 51,
   "id": "d08da364-c0c9-424a-9170-6503d276ead1",
   "metadata": {},
   "outputs": [
    {
     "name": "stdout",
     "output_type": "stream",
     "text": [
      "Microsoft  |  PROPN  | proper noun  |  noun, proper singular\n",
      "Corp.  |  PROPN  | proper noun  |  noun, proper singular\n",
      "today  |  NOUN  | noun  |  noun, singular or mass\n",
      "announced  |  VERB  | verb  |  verb, past tense\n",
      "the  |  DET  | determiner  |  determiner\n",
      "following  |  VERB  | verb  |  verb, gerund or present participle\n",
      "results  |  NOUN  | noun  |  noun, plural\n",
      "for  |  ADP  | adposition  |  conjunction, subordinating or preposition\n",
      "the  |  DET  | determiner  |  determiner\n",
      "quarter  |  NOUN  | noun  |  noun, singular or mass\n",
      "ended  |  VERB  | verb  |  verb, past participle\n",
      "March  |  PROPN  | proper noun  |  noun, proper singular\n",
      "31  |  NUM  | numeral  |  cardinal number\n",
      "2025  |  NUM  | numeral  |  cardinal number\n",
      "as  |  SCONJ  | subordinating conjunction  |  conjunction, subordinating or preposition\n",
      "compared  |  VERB  | verb  |  verb, past participle\n",
      "to  |  ADP  | adposition  |  conjunction, subordinating or preposition\n",
      "the  |  DET  | determiner  |  determiner\n",
      "corresponding  |  ADJ  | adjective  |  adjective (English), other noun-modifier (Chinese)\n",
      "period  |  NOUN  | noun  |  noun, singular or mass\n",
      "of  |  ADP  | adposition  |  conjunction, subordinating or preposition\n",
      "last  |  ADJ  | adjective  |  adjective (English), other noun-modifier (Chinese)\n",
      "fiscal  |  ADJ  | adjective  |  adjective (English), other noun-modifier (Chinese)\n",
      "year  |  NOUN  | noun  |  noun, singular or mass\n",
      "Revenue  |  NOUN  | noun  |  noun, singular or mass\n",
      "was  |  AUX  | auxiliary  |  verb, past tense\n",
      "$  |  SYM  | symbol  |  symbol, currency\n",
      "70.1  |  NUM  | numeral  |  cardinal number\n",
      "billion  |  NUM  | numeral  |  cardinal number\n",
      "and  |  CCONJ  | coordinating conjunction  |  conjunction, coordinating\n",
      "increased  |  VERB  | verb  |  verb, past tense\n",
      "13  |  NUM  | numeral  |  cardinal number\n",
      "%  |  NOUN  | noun  |  noun, singular or mass\n",
      "up  |  ADV  | adverb  |  adverb\n",
      "15  |  NUM  | numeral  |  cardinal number\n",
      "%  |  NOUN  | noun  |  noun, singular or mass\n",
      "in  |  ADP  | adposition  |  conjunction, subordinating or preposition\n",
      "constant  |  ADJ  | adjective  |  adjective (English), other noun-modifier (Chinese)\n",
      "currency  |  NOUN  | noun  |  noun, singular or mass\n",
      "Operating  |  NOUN  | noun  |  noun, singular or mass\n",
      "income  |  NOUN  | noun  |  noun, singular or mass\n",
      "was  |  AUX  | auxiliary  |  verb, past tense\n",
      "$  |  SYM  | symbol  |  symbol, currency\n",
      "32.0  |  NUM  | numeral  |  cardinal number\n",
      "billion  |  NUM  | numeral  |  cardinal number\n",
      "and  |  CCONJ  | coordinating conjunction  |  conjunction, coordinating\n",
      "increased  |  VERB  | verb  |  verb, past tense\n",
      "16  |  NUM  | numeral  |  cardinal number\n",
      "%  |  NOUN  | noun  |  noun, singular or mass\n",
      "up  |  ADV  | adverb  |  adverb\n",
      "19  |  NUM  | numeral  |  cardinal number\n",
      "%  |  NOUN  | noun  |  noun, singular or mass\n",
      "in  |  ADP  | adposition  |  conjunction, subordinating or preposition\n",
      "constant  |  ADJ  | adjective  |  adjective (English), other noun-modifier (Chinese)\n",
      "currency  |  NOUN  | noun  |  noun, singular or mass\n",
      "Net  |  ADJ  | adjective  |  adjective (English), other noun-modifier (Chinese)\n",
      "income  |  NOUN  | noun  |  noun, singular or mass\n",
      "was  |  AUX  | auxiliary  |  verb, past tense\n",
      "$  |  SYM  | symbol  |  symbol, currency\n",
      "25.8  |  NUM  | numeral  |  cardinal number\n",
      "billion  |  NUM  | numeral  |  cardinal number\n",
      "and  |  CCONJ  | coordinating conjunction  |  conjunction, coordinating\n",
      "increased  |  VERB  | verb  |  verb, past tense\n",
      "18  |  NUM  | numeral  |  cardinal number\n",
      "%  |  NOUN  | noun  |  noun, singular or mass\n",
      "up  |  ADV  | adverb  |  adverb\n",
      "19  |  NUM  | numeral  |  cardinal number\n",
      "%  |  NOUN  | noun  |  noun, singular or mass\n",
      "in  |  ADP  | adposition  |  conjunction, subordinating or preposition\n",
      "constant  |  ADJ  | adjective  |  adjective (English), other noun-modifier (Chinese)\n",
      "currency  |  NOUN  | noun  |  noun, singular or mass\n",
      "Diluted  |  ADJ  | adjective  |  adjective (English), other noun-modifier (Chinese)\n",
      "earnings  |  NOUN  | noun  |  noun, plural\n",
      "per  |  ADP  | adposition  |  conjunction, subordinating or preposition\n",
      "share  |  NOUN  | noun  |  noun, singular or mass\n",
      "was  |  AUX  | auxiliary  |  verb, past tense\n",
      "$  |  SYM  | symbol  |  symbol, currency\n",
      "3.46  |  NUM  | numeral  |  cardinal number\n",
      "and  |  CCONJ  | coordinating conjunction  |  conjunction, coordinating\n",
      "increased  |  VERB  | verb  |  verb, past tense\n",
      "18  |  NUM  | numeral  |  cardinal number\n",
      "%  |  NOUN  | noun  |  noun, singular or mass\n",
      "up  |  ADV  | adverb  |  adverb\n",
      "19  |  NUM  | numeral  |  cardinal number\n",
      "%  |  NOUN  | noun  |  noun, singular or mass\n",
      "in  |  ADP  | adposition  |  conjunction, subordinating or preposition\n",
      "constant  |  ADJ  | adjective  |  adjective (English), other noun-modifier (Chinese)\n",
      "currency  |  NOUN  | noun  |  noun, singular or mass\n"
     ]
    }
   ],
   "source": [
    "doc = nlp(earnings_text)\n",
    "\n",
    "for token in doc:\n",
    "    if token.pos_ not in [\"SPACE\", \"X\",\"PUNCT\"]:\n",
    "     print (token, \" | \",token.pos_, \" |\", spacy.explain(token.pos_), \" | \",  spacy.explain(token.tag_))"
   ]
  },
  {
   "cell_type": "code",
   "execution_count": 59,
   "id": "6903d14a-6c82-444a-adf0-0c74f58cf6fb",
   "metadata": {},
   "outputs": [],
   "source": [
    "doc = nlp(earnings_text)\n",
    "\n",
    "filtered_tokens = []\n",
    "\n",
    "for token in doc:\n",
    "    if token.pos_ not in [\"SPACE\", \"X\",\"PUNCT\"]:\n",
    "        filtered_tokens.append(token)"
   ]
  },
  {
   "cell_type": "code",
   "execution_count": 61,
   "id": "6250b0b6-6560-4bd3-b65d-2ef7808da791",
   "metadata": {},
   "outputs": [
    {
     "data": {
      "text/plain": [
       "[Microsoft,\n",
       " Corp.,\n",
       " today,\n",
       " announced,\n",
       " the,\n",
       " following,\n",
       " results,\n",
       " for,\n",
       " the,\n",
       " quarter,\n",
       " ended,\n",
       " March,\n",
       " 31,\n",
       " 2025,\n",
       " as,\n",
       " compared,\n",
       " to,\n",
       " the,\n",
       " corresponding,\n",
       " period]"
      ]
     },
     "execution_count": 61,
     "metadata": {},
     "output_type": "execute_result"
    }
   ],
   "source": [
    "filtered_tokens[:20]"
   ]
  },
  {
   "cell_type": "code",
   "execution_count": 63,
   "id": "521479e2-3258-4c1c-bf0d-a7526b5f8064",
   "metadata": {},
   "outputs": [
    {
     "data": {
      "text/plain": [
       "{96: 3,\n",
       " 92: 23,\n",
       " 100: 8,\n",
       " 90: 3,\n",
       " 85: 8,\n",
       " 93: 17,\n",
       " 97: 12,\n",
       " 98: 1,\n",
       " 84: 9,\n",
       " 103: 4,\n",
       " 87: 4,\n",
       " 99: 4,\n",
       " 89: 4,\n",
       " 86: 4,\n",
       " 101: 1}"
      ]
     },
     "execution_count": 63,
     "metadata": {},
     "output_type": "execute_result"
    }
   ],
   "source": [
    "count = doc.count_by(spacy.attrs.POS)\n",
    "count"
   ]
  },
  {
   "cell_type": "code",
   "execution_count": 65,
   "id": "0019f32b-534e-4d22-b10e-67b18124bfa4",
   "metadata": {},
   "outputs": [
    {
     "data": {
      "text/plain": [
       "'PROPN'"
      ]
     },
     "execution_count": 65,
     "metadata": {},
     "output_type": "execute_result"
    }
   ],
   "source": [
    "token.vocab[96].text"
   ]
  },
  {
   "cell_type": "code",
   "execution_count": 73,
   "id": "607ba21b-55b7-4056-b301-f022db724f45",
   "metadata": {},
   "outputs": [
    {
     "name": "stdout",
     "output_type": "stream",
     "text": [
      "PROPN | 3\n",
      "NOUN | 23\n",
      "VERB | 8\n",
      "DET | 3\n",
      "ADP | 8\n",
      "NUM | 17\n",
      "PUNCT | 12\n",
      "SCONJ | 1\n",
      "ADJ | 9\n",
      "SPACE | 4\n",
      "AUX | 4\n",
      "SYM | 4\n",
      "CCONJ | 4\n",
      "ADV | 4\n",
      "X | 1\n"
     ]
    }
   ],
   "source": [
    "for k,v in count.items():\n",
    "    print(doc.vocab[k].text, \"|\", v)"
   ]
  },
  {
   "cell_type": "code",
   "execution_count": null,
   "id": "dba8a2b4-5716-4808-8933-265f22dd9cf8",
   "metadata": {},
   "outputs": [],
   "source": []
  },
  {
   "cell_type": "code",
   "execution_count": null,
   "id": "bd014e4a-7aad-4a37-a8be-9bcf96356627",
   "metadata": {},
   "outputs": [],
   "source": []
  },
  {
   "cell_type": "code",
   "execution_count": null,
   "id": "42260252-8e22-434e-bbed-c4c8c27e230d",
   "metadata": {},
   "outputs": [],
   "source": []
  },
  {
   "cell_type": "code",
   "execution_count": null,
   "id": "7a10710a-8fa7-4ccc-8c09-6abb1edc4992",
   "metadata": {},
   "outputs": [],
   "source": []
  },
  {
   "cell_type": "code",
   "execution_count": null,
   "id": "1e535c85-1013-4e79-99a8-7918dcc22e1f",
   "metadata": {},
   "outputs": [],
   "source": []
  },
  {
   "cell_type": "code",
   "execution_count": null,
   "id": "f97c1c55-7724-4699-a803-c80b5bc79114",
   "metadata": {},
   "outputs": [],
   "source": []
  },
  {
   "cell_type": "code",
   "execution_count": null,
   "id": "3da9d31c-4260-4857-9bb0-22aa03553b25",
   "metadata": {},
   "outputs": [],
   "source": []
  },
  {
   "cell_type": "code",
   "execution_count": null,
   "id": "6fc8b098-b130-405e-ab96-6bdc4973401f",
   "metadata": {},
   "outputs": [],
   "source": []
  },
  {
   "cell_type": "code",
   "execution_count": null,
   "id": "74cce6f0-fb1f-449d-9002-112513765aa1",
   "metadata": {},
   "outputs": [],
   "source": []
  },
  {
   "cell_type": "code",
   "execution_count": null,
   "id": "02227928-51aa-406c-8dc3-ae2f6e669abf",
   "metadata": {},
   "outputs": [],
   "source": []
  },
  {
   "cell_type": "code",
   "execution_count": null,
   "id": "750ec22f-2f87-4b4e-8cf7-a9875afa6e1e",
   "metadata": {},
   "outputs": [],
   "source": []
  },
  {
   "cell_type": "code",
   "execution_count": null,
   "id": "a821bfe9-7fc1-486e-a8be-b9ec84c85d58",
   "metadata": {},
   "outputs": [],
   "source": []
  },
  {
   "cell_type": "code",
   "execution_count": null,
   "id": "d40209d6-c222-4137-a949-f2889a773211",
   "metadata": {},
   "outputs": [],
   "source": []
  },
  {
   "cell_type": "code",
   "execution_count": null,
   "id": "09f003dc-3fa3-4489-b1e3-09227621eb66",
   "metadata": {},
   "outputs": [],
   "source": []
  },
  {
   "cell_type": "code",
   "execution_count": null,
   "id": "0295097f-74ed-46aa-96c1-66f18369e80e",
   "metadata": {},
   "outputs": [],
   "source": []
  },
  {
   "cell_type": "code",
   "execution_count": null,
   "id": "8117ace6-1835-4bda-aefc-feca7a81bab8",
   "metadata": {},
   "outputs": [],
   "source": []
  },
  {
   "cell_type": "code",
   "execution_count": null,
   "id": "7802fcec-1765-44d4-8767-0f7f3babaa68",
   "metadata": {},
   "outputs": [],
   "source": []
  },
  {
   "cell_type": "code",
   "execution_count": null,
   "id": "bcce342a-47a6-4e60-889e-127efde46d31",
   "metadata": {},
   "outputs": [],
   "source": []
  },
  {
   "cell_type": "code",
   "execution_count": null,
   "id": "247a441c-e13e-479a-a2d4-476aa06df10e",
   "metadata": {},
   "outputs": [],
   "source": []
  },
  {
   "cell_type": "code",
   "execution_count": null,
   "id": "8adf6fc6-2c86-4dec-88cb-9d4b3381855e",
   "metadata": {},
   "outputs": [],
   "source": []
  },
  {
   "cell_type": "code",
   "execution_count": null,
   "id": "7194a7c1-705d-4d79-b3b2-0c24c8964682",
   "metadata": {},
   "outputs": [],
   "source": []
  },
  {
   "cell_type": "code",
   "execution_count": null,
   "id": "2fa2891a-03cb-4fc1-88f4-cc58c51b39c4",
   "metadata": {},
   "outputs": [],
   "source": []
  },
  {
   "cell_type": "code",
   "execution_count": null,
   "id": "69f3e70f-d879-4e7b-bc13-01c0ef67084c",
   "metadata": {},
   "outputs": [],
   "source": []
  },
  {
   "cell_type": "code",
   "execution_count": null,
   "id": "4fb263f9-8185-44e0-a78d-dcd2712affed",
   "metadata": {},
   "outputs": [],
   "source": []
  },
  {
   "cell_type": "code",
   "execution_count": null,
   "id": "0705c61f-9629-4be2-bacf-3c61c72ef367",
   "metadata": {},
   "outputs": [],
   "source": []
  }
 ],
 "metadata": {
  "kernelspec": {
   "display_name": "Python (base)",
   "language": "python",
   "name": "base"
  },
  "language_info": {
   "codemirror_mode": {
    "name": "ipython",
    "version": 3
   },
   "file_extension": ".py",
   "mimetype": "text/x-python",
   "name": "python",
   "nbconvert_exporter": "python",
   "pygments_lexer": "ipython3",
   "version": "3.12.3"
  }
 },
 "nbformat": 4,
 "nbformat_minor": 5
}
